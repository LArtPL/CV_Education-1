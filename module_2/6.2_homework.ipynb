{
 "cells": [
  {
   "cell_type": "markdown",
   "metadata": {
    "id": "m3s7xwrYojs9"
   },
   "source": [
    "#Предыдущие результаты, которые понадобятся в этом ноутбуке"
   ]
  },
  {
   "cell_type": "code",
   "execution_count": 1,
   "metadata": {
    "id": "cBJafVhjnO-v"
   },
   "outputs": [],
   "source": [
    "import numpy as np  \n",
    "\n",
    "import seaborn as sns"
   ]
  },
  {
   "cell_type": "code",
   "execution_count": 2,
   "metadata": {
    "id": "vqM-vtOkryqo"
   },
   "outputs": [],
   "source": [
    "np.random.seed(1)"
   ]
  },
  {
   "cell_type": "markdown",
   "metadata": {
    "id": "challenging-startup"
   },
   "source": [
    "Сгенерируем выборку"
   ]
  },
  {
   "cell_type": "code",
   "execution_count": 3,
   "metadata": {
    "id": "QWfPweCVpEgP"
   },
   "outputs": [],
   "source": [
    "def linear_func(x):\n",
    "    target_k = 5\n",
    "    target_b = -2\n",
    "    return target_k * x + target_b"
   ]
  },
  {
   "cell_type": "code",
   "execution_count": 4,
   "metadata": {
    "colab": {
     "base_uri": "https://localhost:8080/"
    },
    "executionInfo": {
     "elapsed": 16,
     "status": "ok",
     "timestamp": 1623776471264,
     "user": {
      "displayName": "Grigorii Alexeenko",
      "photoUrl": "",
      "userId": "07109815321363384907"
     },
     "user_tz": -180
    },
    "id": "posted-breakdown",
    "outputId": "97852a4b-f0a3-45fe-c5f0-67d393a3ee0a"
   },
   "outputs": [
    {
     "name": "stdout",
     "output_type": "stream",
     "text": [
      "[0.  0.1 0.2 0.3 0.4 0.5 0.6 0.7 0.8 0.9 1. ]\n"
     ]
    }
   ],
   "source": [
    "xes = np.linspace(0, 1, 11)\n",
    "\n",
    "print(xes)"
   ]
  },
  {
   "cell_type": "code",
   "execution_count": 5,
   "metadata": {
    "colab": {
     "base_uri": "https://localhost:8080/"
    },
    "executionInfo": {
     "elapsed": 12,
     "status": "ok",
     "timestamp": 1623776471264,
     "user": {
      "displayName": "Grigorii Alexeenko",
      "photoUrl": "",
      "userId": "07109815321363384907"
     },
     "user_tz": -180
    },
    "id": "lSkmrafussNu",
    "outputId": "f889a39a-cc86-42e0-84e9-e610d84c0e33"
   },
   "outputs": [
    {
     "name": "stdout",
     "output_type": "stream",
     "text": [
      "[-2.  -1.5 -1.  -0.5  0.   0.5  1.   1.5  2.   2.5  3. ]\n"
     ]
    }
   ],
   "source": [
    "target_ys = np.array([linear_func(x) for x in xes])\n",
    "print(target_ys)"
   ]
  },
  {
   "cell_type": "code",
   "execution_count": 6,
   "metadata": {
    "colab": {
     "base_uri": "https://localhost:8080/"
    },
    "executionInfo": {
     "elapsed": 11,
     "status": "ok",
     "timestamp": 1623776471265,
     "user": {
      "displayName": "Grigorii Alexeenko",
      "photoUrl": "",
      "userId": "07109815321363384907"
     },
     "user_tz": -180
    },
    "id": "hWUSfJYessYU",
    "outputId": "1175fcb9-560e-49f1-ad90-4ed4c0a0c2fa"
   },
   "outputs": [
    {
     "name": "stdout",
     "output_type": "stream",
     "text": [
      "[-1.83756546 -1.56117564 -1.05281718 -0.60729686  0.08654076  0.26984613\n",
      "  1.17448118  1.42387931  2.03190391  2.47506296  3.14621079]\n"
     ]
    }
   ],
   "source": [
    "noise = np.random.normal(0, 0.1, 11)\n",
    "noisy_target_ys = target_ys + noise\n",
    "\n",
    "print(noisy_target_ys)"
   ]
  },
  {
   "cell_type": "markdown",
   "metadata": {
    "id": "w2GnRF-26IJy"
   },
   "source": [
    "================================================================================\n",
    "# Решение для градиентного спуска\n",
    "================================================================================"
   ]
  },
  {
   "cell_type": "markdown",
   "metadata": {
    "id": "sitting-roman"
   },
   "source": [
    "Own linear regression with gradient descent"
   ]
  },
  {
   "cell_type": "code",
   "execution_count": 7,
   "metadata": {
    "id": "GqqV0KhrGvzU"
   },
   "outputs": [],
   "source": [
    "def MSE_loss(target, predict):\n",
    "    return ((target - predict)**2).mean()"
   ]
  },
  {
   "cell_type": "code",
   "execution_count": 8,
   "metadata": {
    "id": "continental-heating"
   },
   "outputs": [],
   "source": [
    "class OwnLinearRegressionGD:\n",
    "    def __init__(self, k=1, b=1):\n",
    "        self.lr = 0.03 \n",
    "        self.n_iter = 1500\n",
    "        self.coef_ = None\n",
    "        self.intercept_ = None\n",
    "        self.W = np.array([b, k])\n",
    "\n",
    "    def calc_loss(self, X, Y):\n",
    "        X_full = np.c_[np.ones(X.shape[0]), X]\n",
    "        return MSE_loss(Y, X_full @ self.W)\n",
    "\n",
    "    def calc_grad(self, X, Y):\n",
    "        return 2 / X.shape[0] * (X.T @ ((X @ self.W) - Y))\n",
    "\n",
    "    def predict(self, X):\n",
    "        X_full = np.c_[np.ones(X.shape[0]), X]\n",
    "        return X_full @ self.W\n",
    "\n",
    "    def fit(self, X, Y):\n",
    "        X_full = np.c_[np.ones(X.shape[0]), X]\n",
    "        self.W = np.random.rand((X_full.shape[1]))\n",
    "        for _ in range(self.n_iter):\n",
    "            self.W = self.W - self.lr * self.calc_grad(X_full, Y)\n",
    "        self.coef_ = self.W[1:]\n",
    "        self.intercept_ = self.W[:1]\n",
    "        print(self.coef_, self.intercept_)\n",
    "        \n",
    "\n"
   ]
  },
  {
   "cell_type": "code",
   "execution_count": 9,
   "metadata": {
    "colab": {
     "base_uri": "https://localhost:8080/"
    },
    "executionInfo": {
     "elapsed": 334,
     "status": "ok",
     "timestamp": 1623776496114,
     "user": {
      "displayName": "Grigorii Alexeenko",
      "photoUrl": "",
      "userId": "07109815321363384907"
     },
     "user_tz": -180
    },
    "id": "cubic-system",
    "outputId": "f85d8a54-f0aa-4913-ffb0-5b5908c6d069"
   },
   "outputs": [
    {
     "name": "stdout",
     "output_type": "stream",
     "text": [
      "Predict =  [3.]\n",
      "[5.03872217] [-2.01473585]\n",
      "Predict =  [8.06270849]\n",
      "0.014722660137947043\n"
     ]
    }
   ],
   "source": [
    "lin_reg = OwnLinearRegressionGD(1, 1)\n",
    "\n",
    "print(\"Predict = \",lin_reg.predict(np.array([2])))\n",
    "X = xes.reshape((-1, 1))\n",
    "lin_reg.fit(X, noisy_target_ys)\n",
    "\n",
    "print(\"Predict = \",lin_reg.predict(np.array([2])))\n",
    "\n",
    "print(lin_reg.calc_loss(X, noisy_target_ys))\n"
   ]
  },
  {
   "cell_type": "code",
   "execution_count": 10,
   "metadata": {
    "colab": {
     "base_uri": "https://localhost:8080/",
     "height": 282
    },
    "executionInfo": {
     "elapsed": 901,
     "status": "ok",
     "timestamp": 1623776499741,
     "user": {
      "displayName": "Grigorii Alexeenko",
      "photoUrl": "",
      "userId": "07109815321363384907"
     },
     "user_tz": -180
    },
    "id": "a12h2GsS7uou",
    "outputId": "7f966cdf-fa82-4c99-92dc-5ada71def57b",
    "scrolled": true
   },
   "outputs": [
    {
     "data": {
      "text/plain": [
       "<matplotlib.axes._subplots.AxesSubplot at 0x246e194bf88>"
      ]
     },
     "execution_count": 10,
     "metadata": {},
     "output_type": "execute_result"
    },
    {
     "data": {
      "image/png": "[encoded data removed]",
      "text/plain": [
       "<Figure size 432x288 with 1 Axes>"
      ]
     },
     "metadata": {
      "needs_background": "light"
     },
     "output_type": "display_data"
    }
   ],
   "source": [
    "GDRegression_predict = [lin_reg.predict(np.array([x]))[0] for x in xes]\n",
    "sns.lineplot(x = xes, y = target_ys, color = \"g\")\n",
    "sns.lineplot(x = xes, y = noisy_target_ys, color = \"b\")\n",
    "sns.lineplot(x = xes, y = GDRegression_predict, color = \"r\")"
   ]
  },
  {
   "cell_type": "markdown",
   "metadata": {},
   "source": [
    "## Homework part"
   ]
  },
  {
   "cell_type": "code",
   "execution_count": 11,
   "metadata": {},
   "outputs": [
    {
     "name": "stdout",
     "output_type": "stream",
     "text": [
      "[ 9.   9.2  9.4  9.6  9.8 10.  10.2 10.4 10.6 10.8 11. ]\n"
     ]
    }
   ],
   "source": [
    "def linear_func(x):\n",
    "    target_k = 2\n",
    "    target_b = 9\n",
    "    return target_k * x + target_b\n",
    "\n",
    "target_ys = np.array([linear_func(x) for x in xes])\n",
    "print(target_ys)"
   ]
  },
  {
   "cell_type": "code",
   "execution_count": 12,
   "metadata": {},
   "outputs": [
    {
     "name": "stdout",
     "output_type": "stream",
     "text": [
      "[ 8.79398593  9.31337694  9.29001087  9.58275718  9.71221416 10.00422137\n",
      " 10.25828152 10.28993808 10.71447237 10.89015907 11.05024943]\n"
     ]
    }
   ],
   "source": [
    "noise = np.random.normal(0, 0.1, 11)\n",
    "noisy_target_ys = target_ys + noise\n",
    "\n",
    "print(noisy_target_ys)"
   ]
  },
  {
   "cell_type": "code",
   "execution_count": 13,
   "metadata": {},
   "outputs": [
    {
     "name": "stdout",
     "output_type": "stream",
     "text": [
      "[2.16784168] [8.90686484]\n",
      "Predict =  [13.24254821]\n",
      "0.007598709120289265\n"
     ]
    }
   ],
   "source": [
    "lin_reg = OwnLinearRegressionGD(1, 1)\n",
    "\n",
    "X = xes.reshape((-1, 1))\n",
    "lin_reg.fit(X, noisy_target_ys)\n",
    "\n",
    "print(\"Predict = \",lin_reg.predict(np.array([2])))\n",
    "\n",
    "print(lin_reg.calc_loss(X, noisy_target_ys))\n"
   ]
  },
  {
   "cell_type": "code",
   "execution_count": 14,
   "metadata": {},
   "outputs": [
    {
     "data": {
      "text/plain": [
       "array([19.74607326])"
      ]
     },
     "execution_count": 14,
     "metadata": {},
     "output_type": "execute_result"
    }
   ],
   "source": [
    "lin_reg.predict(np.array([5]))"
   ]
  },
  {
   "cell_type": "code",
   "execution_count": null,
   "metadata": {},
   "outputs": [],
   "source": []
  },
  {
   "cell_type": "code",
   "execution_count": null,
   "metadata": {},
   "outputs": [],
   "source": []
  }
 ],
 "metadata": {
  "colab": {
   "authorship_tag": "ABX9TyMnRMtxZ7eIgBeVvouUYD7k",
   "collapsed_sections": [],
   "name": "Module 1 Screencast 4.ipynb",
   "provenance": []
  },
  "kernelspec": {
   "display_name": "Python 3",
   "language": "python",
   "name": "python3"
  },
  "language_info": {
   "codemirror_mode": {
    "name": "ipython",
    "version": 3
   },
   "file_extension": ".py",
   "mimetype": "text/x-python",
   "name": "python",
   "nbconvert_exporter": "python",
   "pygments_lexer": "ipython3",
   "version": "3.7.7"
  }
 },
 "nbformat": 4,
 "nbformat_minor": 1
}
