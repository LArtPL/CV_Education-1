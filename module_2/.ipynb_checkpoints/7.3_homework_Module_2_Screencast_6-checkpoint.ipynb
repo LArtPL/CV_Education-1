{
 "cells": [
  {
   "cell_type": "markdown",
   "metadata": {
    "id": "m3s7xwrYojs9"
   },
   "source": [
    "#Предыдущие результаты, которые понадобятся в этом ноутбуке"
   ]
  },
  {
   "cell_type": "code",
   "execution_count": 1,
   "metadata": {
    "executionInfo": {
     "elapsed": 658,
     "status": "ok",
     "timestamp": 1623776668284,
     "user": {
      "displayName": "Grigorii Alexeenko",
      "photoUrl": "",
      "userId": "07109815321363384907"
     },
     "user_tz": -180
    },
    "id": "relevant-synthesis"
   },
   "outputs": [],
   "source": [
    "import numpy as np  \n",
    "\n",
    "import seaborn as sns"
   ]
  },
  {
   "cell_type": "code",
   "execution_count": 2,
   "metadata": {
    "executionInfo": {
     "elapsed": 18,
     "status": "ok",
     "timestamp": 1623776668285,
     "user": {
      "displayName": "Grigorii Alexeenko",
      "photoUrl": "",
      "userId": "07109815321363384907"
     },
     "user_tz": -180
    },
    "id": "vqM-vtOkryqo"
   },
   "outputs": [],
   "source": [
    "np.random.seed(1)"
   ]
  },
  {
   "cell_type": "markdown",
   "metadata": {
    "id": "challenging-startup"
   },
   "source": [
    "Сгенерируем выборку"
   ]
  },
  {
   "cell_type": "code",
   "execution_count": 3,
   "metadata": {
    "executionInfo": {
     "elapsed": 17,
     "status": "ok",
     "timestamp": 1623776668286,
     "user": {
      "displayName": "Grigorii Alexeenko",
      "photoUrl": "",
      "userId": "07109815321363384907"
     },
     "user_tz": -180
    },
    "id": "QWfPweCVpEgP"
   },
   "outputs": [],
   "source": [
    "def linear_func(x):\n",
    "    target_k = 5\n",
    "    target_b = -2\n",
    "    return target_k * x + target_b"
   ]
  },
  {
   "cell_type": "code",
   "execution_count": 4,
   "metadata": {
    "colab": {
     "base_uri": "https://localhost:8080/"
    },
    "executionInfo": {
     "elapsed": 16,
     "status": "ok",
     "timestamp": 1623776668286,
     "user": {
      "displayName": "Grigorii Alexeenko",
      "photoUrl": "",
      "userId": "07109815321363384907"
     },
     "user_tz": -180
    },
    "id": "posted-breakdown",
    "outputId": "24af90e6-505b-4c5a-ac1c-86ee94ee9343"
   },
   "outputs": [
    {
     "name": "stdout",
     "output_type": "stream",
     "text": [
      "[0.  0.1 0.2 0.3 0.4 0.5 0.6 0.7 0.8 0.9 1. ]\n"
     ]
    }
   ],
   "source": [
    "xes = np.linspace(0, 1, 11)\n",
    "\n",
    "print(xes)"
   ]
  },
  {
   "cell_type": "code",
   "execution_count": 5,
   "metadata": {
    "colab": {
     "base_uri": "https://localhost:8080/"
    },
    "executionInfo": {
     "elapsed": 14,
     "status": "ok",
     "timestamp": 1623776668287,
     "user": {
      "displayName": "Grigorii Alexeenko",
      "photoUrl": "",
      "userId": "07109815321363384907"
     },
     "user_tz": -180
    },
    "id": "lSkmrafussNu",
    "outputId": "39723a3c-4ebd-4cad-bbe0-8866524f3b7c"
   },
   "outputs": [
    {
     "name": "stdout",
     "output_type": "stream",
     "text": [
      "[-2.  -1.5 -1.  -0.5  0.   0.5  1.   1.5  2.   2.5  3. ]\n"
     ]
    }
   ],
   "source": [
    "target_ys = np.array([linear_func(x) for x in xes])\n",
    "print(target_ys)"
   ]
  },
  {
   "cell_type": "code",
   "execution_count": 6,
   "metadata": {
    "colab": {
     "base_uri": "https://localhost:8080/"
    },
    "executionInfo": {
     "elapsed": 13,
     "status": "ok",
     "timestamp": 1623776668287,
     "user": {
      "displayName": "Grigorii Alexeenko",
      "photoUrl": "",
      "userId": "07109815321363384907"
     },
     "user_tz": -180
    },
    "id": "hWUSfJYessYU",
    "outputId": "33256bc9-9922-47e4-fb4f-ba43034f742d"
   },
   "outputs": [
    {
     "name": "stdout",
     "output_type": "stream",
     "text": [
      "[-1.83756546 -1.56117564 -1.05281718 -0.60729686  0.08654076  0.26984613\n",
      "  1.17448118  1.42387931  2.03190391  2.47506296  3.14621079]\n"
     ]
    }
   ],
   "source": [
    "noise = np.random.normal(0, 0.1, 11)\n",
    "noisy_target_ys = target_ys + noise\n",
    "\n",
    "print(noisy_target_ys)"
   ]
  },
  {
   "cell_type": "code",
   "execution_count": 7,
   "metadata": {
    "executionInfo": {
     "elapsed": 300,
     "status": "ok",
     "timestamp": 1623776688115,
     "user": {
      "displayName": "Grigorii Alexeenko",
      "photoUrl": "",
      "userId": "07109815321363384907"
     },
     "user_tz": -180
    },
    "id": "Kf0ovK_vocx6"
   },
   "outputs": [],
   "source": [
    "def MSE_loss(target, predict):\n",
    "    return ((target - predict)**2).mean()"
   ]
  },
  {
   "cell_type": "markdown",
   "metadata": {
    "id": "l4j260mF63tg"
   },
   "source": [
    "================================================================================\n",
    "# Начало скринкаста 6\n",
    "================================================================================"
   ]
  },
  {
   "cell_type": "code",
   "execution_count": 8,
   "metadata": {
    "executionInfo": {
     "elapsed": 12,
     "status": "ok",
     "timestamp": 1623776668288,
     "user": {
      "displayName": "Grigorii Alexeenko",
      "photoUrl": "",
      "userId": "07109815321363384907"
     },
     "user_tz": -180
    },
    "id": "welsh-arkansas"
   },
   "outputs": [],
   "source": [
    "class OneLinearLearnableNeuron:\n",
    "\n",
    "    def __init__(self, w, b): #Получение весов\n",
    "        self.w = np.array(w)\n",
    "        self.b = np.array(b)\n",
    "\n",
    "        self.n_iter = 500\n",
    "        self.lr = 0.1\n",
    "    \n",
    "    def calc_grad_w(self, x, y):\n",
    "        return -2 * np.array(y) @ np.array(x) + \\\n",
    "        2 * (self.w @ np.array(x) + self.b) @ np.array(x).T\n",
    "\n",
    "    def calc_grad_b(self, x, y):\n",
    "        return -2 * np.array(y) + 2 * (self.w @ np.array([x]) + self.b)\n",
    "\n",
    "    def calc_loss(self, target, predict):\n",
    "        return MSE_loss(np.array(target).reshape(1, -1),\\\n",
    "                        np.array(predict).reshape(1, -1))\n",
    "\n",
    "    def apply(self, x): #Получение предсказания\n",
    "        return self.w * np.array(x) + self.b\n",
    "    \n",
    "    def train(self, x, y):\n",
    "        loss_hist = []\n",
    "        for i in range(self.n_iter):\n",
    "            current_predict = [self.apply(np.array(item)) for item in x]\n",
    "            loss_hist.append(self.calc_loss(current_predict, y))\n",
    "            for item in range(len(x)):\n",
    "                self.w = self.w - \\\n",
    "                self.lr * self.calc_grad_w([x[item]], [y[item]]) / len(x)\n",
    "                self.b = self.b - \\\n",
    "                self.lr * self.calc_grad_b([x[item]], [y[item]]) / len(x)\n",
    "        return loss_hist\n",
    "\n",
    "    def print_weights(self): #Вывод текущих весов\n",
    "        print('Neuron: w = {}, b = {}'.format(self.w, self.b))"
   ]
  },
  {
   "cell_type": "code",
   "execution_count": 26,
   "metadata": {
    "colab": {
     "base_uri": "https://localhost:8080/"
    },
    "executionInfo": {
     "elapsed": 12,
     "status": "ok",
     "timestamp": 1623776668289,
     "user": {
      "displayName": "Grigorii Alexeenko",
      "photoUrl": "",
      "userId": "07109815321363384907"
     },
     "user_tz": -180
    },
    "id": "coastal-blood",
    "outputId": "b7ef0820-b9f4-48fd-c47c-1b51b071afaa"
   },
   "outputs": [
    {
     "name": "stdout",
     "output_type": "stream",
     "text": [
      "[0]\n",
      "0\n",
      "[4]\n"
     ]
    }
   ],
   "source": [
    "neuron = OneLinearLearnableNeuron([3], [0])\n",
    "\n",
    "print(neuron.apply([0]))\n",
    "\n",
    "print(neuron.calc_grad_w([0], [-2]))\n",
    "print(neuron.calc_grad_b([0], [-2]))\n"
   ]
  },
  {
   "cell_type": "code",
   "execution_count": 27,
   "metadata": {
    "colab": {
     "base_uri": "https://localhost:8080/",
     "height": 299
    },
    "executionInfo": {
     "elapsed": 1056,
     "status": "ok",
     "timestamp": 1623776694635,
     "user": {
      "displayName": "Grigorii Alexeenko",
      "photoUrl": "",
      "userId": "07109815321363384907"
     },
     "user_tz": -180
    },
    "id": "expressed-colony",
    "outputId": "2ad0cfa5-f846-4872-8ec8-fdf009c77ec8"
   },
   "outputs": [
    {
     "name": "stdout",
     "output_type": "stream",
     "text": [
      "[-1.95068212]\n",
      "Neuron: w = [4.91286894], b = [-1.95068212]\n"
     ]
    }
   ],
   "source": [
    "losses = neuron.train(xes, target_ys)\n",
    "\n",
    "#sns.lineplot(data=losses)\n",
    "\n",
    "print(neuron.apply([0]))\n",
    "\n",
    "neuron.print_weights()"
   ]
  },
  {
   "cell_type": "markdown",
   "metadata": {
    "id": "1GUYXOnY7Bif"
   },
   "source": [
    "================================================================================\n",
    "# Конец скринкаста 6\n",
    "================================================================================"
   ]
  },
  {
   "cell_type": "markdown",
   "metadata": {},
   "source": [
    "## HOMEWORK"
   ]
  },
  {
   "cell_type": "code",
   "execution_count": 11,
   "metadata": {},
   "outputs": [],
   "source": [
    "np.random.seed(3)"
   ]
  },
  {
   "cell_type": "code",
   "execution_count": 12,
   "metadata": {},
   "outputs": [],
   "source": [
    "def linear_func(x):\n",
    "    target_k = -1\n",
    "    target_b = 2\n",
    "    return target_k * x + target_b"
   ]
  },
  {
   "cell_type": "code",
   "execution_count": 39,
   "metadata": {},
   "outputs": [
    {
     "name": "stdout",
     "output_type": "stream",
     "text": [
      "[0.  0.1 0.2 0.3 0.4 0.5 0.6 0.7 0.8 0.9 1. ]\n"
     ]
    }
   ],
   "source": [
    "xes = np.linspace(0, 1, 11)\n",
    "\n",
    "print(xes)"
   ]
  },
  {
   "cell_type": "code",
   "execution_count": 40,
   "metadata": {},
   "outputs": [
    {
     "name": "stdout",
     "output_type": "stream",
     "text": [
      "[2.  1.9 1.8 1.7 1.6 1.5 1.4 1.3 1.2 1.1 1. ]\n"
     ]
    }
   ],
   "source": [
    "target_ys = np.array([linear_func(x) for x in xes])\n",
    "print(target_ys)"
   ]
  },
  {
   "cell_type": "code",
   "execution_count": 41,
   "metadata": {},
   "outputs": [
    {
     "name": "stdout",
     "output_type": "stream",
     "text": [
      "[2.17886285 1.94365099 1.80964975 1.51365073 1.57226118 1.4645241\n",
      " 1.39172585 1.23729993 1.19561818 1.0522782  0.86861352]\n"
     ]
    }
   ],
   "source": [
    "noise = np.random.normal(0, 0.1, 11)\n",
    "noisy_target_ys = target_ys + noise\n",
    "\n",
    "print(noisy_target_ys)"
   ]
  },
  {
   "cell_type": "code",
   "execution_count": null,
   "metadata": {},
   "outputs": [],
   "source": []
  },
  {
   "cell_type": "code",
   "execution_count": null,
   "metadata": {},
   "outputs": [],
   "source": []
  },
  {
   "cell_type": "code",
   "execution_count": null,
   "metadata": {},
   "outputs": [],
   "source": []
  },
  {
   "cell_type": "code",
   "execution_count": 42,
   "metadata": {},
   "outputs": [],
   "source": [
    "class OneLinearLearnableNeuron:\n",
    "\n",
    "    def __init__(self, w, b):\n",
    "        self.w = np.array(w)\n",
    "        self.b = np.array(b)\n",
    "\n",
    "        self.n_iter = 50\n",
    "        self.lr = 0.3\n",
    "        self.n_iter_2 = 50\n",
    "        self.lr_2 = 0.1\n",
    "    \n",
    "    def calc_grad_w(self, x, y):\n",
    "        return -2 * np.array(y) @ np.array(x) + \\\n",
    "        2 * (self.w @ np.array(x) + self.b) @ np.array(x).T\n",
    "\n",
    "    def calc_grad_b(self, x, y):\n",
    "        return -2 * np.array(y) + 2 * (self.w @ np.array([x]) + self.b)\n",
    "\n",
    "    def calc_loss(self, target, predict):\n",
    "        return MSE_loss(np.array(target).reshape(1, -1),\\\n",
    "                        np.array(predict).reshape(1, -1))\n",
    "\n",
    "    def apply(self, x):\n",
    "        return self.w * np.array(x) + self.b\n",
    "    \n",
    "    def train(self, x, y):\n",
    "        loss_hist = []\n",
    "        for i in range(self.n_iter):\n",
    "            current_predict = [self.apply(np.array(item)) for item in x]\n",
    "            loss_hist.append(self.calc_loss(current_predict, y))\n",
    "            for item in range(len(x)):\n",
    "                self.w = self.w - \\\n",
    "                self.lr * self.calc_grad_w([x[item]], [y[item]]) / len(x)\n",
    "                self.b = self.b - \\\n",
    "                self.lr * self.calc_grad_b([x[item]], [y[item]]) / len(x)\n",
    "        for i in range(self.n_iter_2):\n",
    "            current_predict = [self.apply(np.array(item)) for item in x]\n",
    "            loss_hist.append(self.calc_loss(current_predict, y))\n",
    "            for item in range(len(x)):\n",
    "                self.w = self.w - \\\n",
    "                self.lr_2 * self.calc_grad_w([x[item]], [y[item]]) / len(x)\n",
    "                self.b = self.b - \\\n",
    "                self.lr_2 * self.calc_grad_b([x[item]], [y[item]]) / len(x)\n",
    "        return loss_hist\n",
    "\n",
    "    def print_weights(self):\n",
    "        print('Neuron: w = {}, b = {}'.format(self.w, self.b))"
   ]
  },
  {
   "cell_type": "code",
   "execution_count": 44,
   "metadata": {},
   "outputs": [
    {
     "name": "stdout",
     "output_type": "stream",
     "text": [
      "[0]\n",
      "0\n",
      "[4]\n"
     ]
    }
   ],
   "source": [
    "neuron = OneLinearLearnableNeuron([3], [0])\n",
    "\n",
    "print(neuron.apply([0]))\n",
    "\n",
    "print(neuron.calc_grad_w([0], [-2]))\n",
    "print(neuron.calc_grad_b([0], [-2]))\n"
   ]
  },
  {
   "cell_type": "code",
   "execution_count": 45,
   "metadata": {},
   "outputs": [
    {
     "name": "stdout",
     "output_type": "stream",
     "text": [
      "[1.91743829]\n",
      "Neuron: w = [-0.8541363], b = [1.91743829]\n"
     ]
    }
   ],
   "source": [
    "losses = neuron.train(xes, target_ys)\n",
    "\n",
    "print(neuron.apply([0]))\n",
    "\n",
    "neuron.print_weights()"
   ]
  },
  {
   "cell_type": "code",
   "execution_count": 47,
   "metadata": {},
   "outputs": [
    {
     "data": {
      "text/plain": [
       "array([-0.6449706])"
      ]
     },
     "execution_count": 47,
     "metadata": {},
     "output_type": "execute_result"
    }
   ],
   "source": [
    "3*neuron.w+neuron.b"
   ]
  },
  {
   "cell_type": "code",
   "execution_count": null,
   "metadata": {},
   "outputs": [],
   "source": []
  }
 ],
 "metadata": {
  "colab": {
   "authorship_tag": "ABX9TyPHa5pPhRoaL14n9Lqt8MjO",
   "name": "Module 1 Screencast 6.ipynb",
   "provenance": []
  },
  "kernelspec": {
   "display_name": "Python 3",
   "language": "python",
   "name": "python3"
  },
  "language_info": {
   "codemirror_mode": {
    "name": "ipython",
    "version": 3
   },
   "file_extension": ".py",
   "mimetype": "text/x-python",
   "name": "python",
   "nbconvert_exporter": "python",
   "pygments_lexer": "ipython3",
   "version": "3.7.7"
  }
 },
 "nbformat": 4,
 "nbformat_minor": 1
}
