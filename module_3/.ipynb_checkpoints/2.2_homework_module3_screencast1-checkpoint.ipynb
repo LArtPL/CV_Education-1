{
 "cells": [
  {
   "cell_type": "markdown",
   "metadata": {
    "id": "G7gwJl2iiuse"
   },
   "source": [
    "#Необходимые вещи из прошлых ноутбуков"
   ]
  },
  {
   "cell_type": "code",
   "execution_count": 1,
   "metadata": {
    "id": "relevant-synthesis"
   },
   "outputs": [],
   "source": [
    "import numpy as np  \n",
    "\n",
    "import seaborn as sns"
   ]
  },
  {
   "cell_type": "code",
   "execution_count": 2,
   "metadata": {
    "id": "vqM-vtOkryqo"
   },
   "outputs": [],
   "source": [
    "np.random.seed(1)"
   ]
  },
  {
   "cell_type": "markdown",
   "metadata": {
    "id": "challenging-startup"
   },
   "source": [
    "Сгенерируем выборку:"
   ]
  },
  {
   "cell_type": "code",
   "execution_count": 3,
   "metadata": {
    "id": "QWfPweCVpEgP"
   },
   "outputs": [],
   "source": [
    "def linear_func(x):\n",
    "    target_k = 5\n",
    "    target_b = -2\n",
    "    return target_k * x + target_b"
   ]
  },
  {
   "cell_type": "code",
   "execution_count": 4,
   "metadata": {
    "colab": {
     "base_uri": "https://localhost:8080/"
    },
    "id": "posted-breakdown",
    "outputId": "458ef0ad-939f-4526-cd64-7c66c6944ff1"
   },
   "outputs": [
    {
     "name": "stdout",
     "output_type": "stream",
     "text": [
      "[0.  0.1 0.2 0.3 0.4 0.5 0.6 0.7 0.8 0.9 1. ]\n"
     ]
    }
   ],
   "source": [
    "xes = np.linspace(0, 1, 11)\n",
    "\n",
    "print(xes)"
   ]
  },
  {
   "cell_type": "code",
   "execution_count": 5,
   "metadata": {
    "colab": {
     "base_uri": "https://localhost:8080/"
    },
    "id": "lSkmrafussNu",
    "outputId": "b8693b58-74ce-460c-9901-86cabd6f4b96"
   },
   "outputs": [
    {
     "name": "stdout",
     "output_type": "stream",
     "text": [
      "[-2.  -1.5 -1.  -0.5  0.   0.5  1.   1.5  2.   2.5  3. ]\n"
     ]
    }
   ],
   "source": [
    "target_ys = np.array([linear_func(x) for x in xes])\n",
    "print(target_ys)"
   ]
  },
  {
   "cell_type": "code",
   "execution_count": 6,
   "metadata": {
    "colab": {
     "base_uri": "https://localhost:8080/"
    },
    "id": "hWUSfJYessYU",
    "outputId": "2b9dc1f6-6040-41df-d6c6-07d490f26d20"
   },
   "outputs": [
    {
     "name": "stdout",
     "output_type": "stream",
     "text": [
      "[-1.83756546 -1.56117564 -1.05281718 -0.60729686  0.08654076  0.26984613\n",
      "  1.17448118  1.42387931  2.03190391  2.47506296  3.14621079]\n"
     ]
    }
   ],
   "source": [
    "noise = np.random.normal(0, 0.1, 11)\n",
    "noisy_target_ys = target_ys + noise\n",
    "\n",
    "print(noisy_target_ys)"
   ]
  },
  {
   "cell_type": "code",
   "execution_count": 7,
   "metadata": {
    "colab": {
     "base_uri": "https://localhost:8080/",
     "height": 282
    },
    "id": "plain-boxing",
    "outputId": "d15a9459-94b3-47a3-aa6c-e2a0291e7366"
   },
   "outputs": [
    {
     "data": {
      "text/plain": [
       "<matplotlib.axes._subplots.AxesSubplot at 0x171c4367888>"
      ]
     },
     "execution_count": 7,
     "metadata": {},
     "output_type": "execute_result"
    },
    {
     "data": {
      "image/png": "[encoded data removed]",
      "text/plain": [
       "<Figure size 432x288 with 1 Axes>"
      ]
     },
     "metadata": {
      "needs_background": "light"
     },
     "output_type": "display_data"
    }
   ],
   "source": [
    "sns.lineplot(x = xes, y = target_ys, color = \"g\")\n",
    "sns.lineplot(x = xes, y = noisy_target_ys, color = \"b\")\n"
   ]
  },
  {
   "cell_type": "markdown",
   "metadata": {
    "id": "8OPBOU2AiyJj"
   },
   "source": [
    "#Начало нового материала"
   ]
  },
  {
   "cell_type": "markdown",
   "metadata": {
    "id": "norwegian-modeling"
   },
   "source": [
    "Переходим к более сложным конструкциям — несколько входных параметров, несколько нейронов."
   ]
  },
  {
   "cell_type": "markdown",
   "metadata": {
    "id": "1GcH9ktNTG0w"
   },
   "source": [
    "Создадим линейный слой — основной элемент нашей сети."
   ]
  },
  {
   "cell_type": "code",
   "execution_count": 8,
   "metadata": {
    "id": "iMbq_sQYnaOI"
   },
   "outputs": [],
   "source": [
    "class SimpleLinearLayer:\n",
    "    def __init__(self, input_size, output_size):\n",
    "        \n",
    "        self.input_size = input_size\n",
    "        self.output_size = output_size\n",
    "        \n",
    "        self.W = np.random.random_sample((output_size, input_size)) * 2 - 1\n",
    "        self.b = np.random.random_sample((output_size,)) * 2 - 1\n",
    "            \n",
    "        self.grad_W = np.zeros((output_size, input_size))\n",
    "        self.grad_b = np.zeros((output_size,))\n",
    "        \n",
    "    def forward(self, x):\n",
    "        h = self.W @ x + self.b \n",
    "        return h\n",
    "    \n",
    "    def backward(self, delta_next, w_next):\n",
    "        return w_next.T @ delta_next\n",
    "\n",
    "    def backward_as_last_layer(self, loss_der):\n",
    "        return loss_der\n",
    "    \n",
    "    def clear_grad(self):\n",
    "        self.grad_W = np.zeros((self.output_size, self.input_size))\n",
    "        self.grad_b = np.zeros((self.output_size,))"
   ]
  },
  {
   "cell_type": "code",
   "execution_count": 9,
   "metadata": {
    "id": "VB46-F5cNBF4"
   },
   "outputs": [],
   "source": [
    "import tqdm\n",
    "\n",
    "\n",
    "class SimpleNN:\n",
    "    def __init__(self, structure, loss, loss_derivative):\n",
    "        self.structure = structure\n",
    "        self.layers = []\n",
    "        self.loss = loss\n",
    "        self.loss_derivative = loss_derivative\n",
    "        for i in range(1, len(structure)):\n",
    "            self.layers.append(SimpleLinearLayer(structure[i-1], structure[i]))\n",
    "        \n",
    "    def apply(self, x):\n",
    "        h_array = [x]\n",
    "        for layer in self.layers:\n",
    "            h = layer.forward(h_array[-1])\n",
    "            h_array.append(h)\n",
    "        return h_array[-1]\n",
    "    \n",
    "    def forward(self, x):\n",
    "        h_array = [x]\n",
    "        for layer in self.layers:\n",
    "            h = layer.forward(h_array[-1])\n",
    "            h_array.append(h)      \n",
    "        return h_array\n",
    "    \n",
    "    def clear_grad_values(self):\n",
    "        for layer in self.layers:\n",
    "            layer.clear_grad()\n",
    "    \n",
    "    def train(self, X, y, iter_num = 500, alpha = 0.1):\n",
    "        cnt = 0\n",
    "        m = len(y)\n",
    "        avg_cost_func = []     \n",
    "        for _ in tqdm.tqdm(range(iter_num)):    \n",
    "            avg_cost = 0\n",
    "            self.clear_grad_values()\n",
    "            for i in range(len(y)):             \n",
    "                # one sample per time\n",
    "                # forward\n",
    "                h = self.forward(X[i, :])\n",
    "\n",
    "                # backward pass\n",
    "                grads = {}\n",
    "                for layer_num, layer in reversed(list(enumerate(self.layers))):\n",
    "                    if layer_num == len(self.layers) - 1:\n",
    "                        loss_deriv = self.loss_derivative(h[-1], y[i,:])\n",
    "                        avg_cost += self.loss(h[-1], y[i,:])\n",
    "                        grads[layer_num] = layer.backward_as_last_layer(loss_deriv)\n",
    "                    else:\n",
    "                        grads[layer_num] = layer.backward(grads[layer_num+1], self.layers[layer_num+1].W)\n",
    "                    layer.grad_W += grads[layer_num][:,np.newaxis] @ np.transpose(h[layer_num][:,np.newaxis])\n",
    "                    layer.grad_b += grads[layer_num]\n",
    "                        \n",
    "            # update weights\n",
    "            for layer in self.layers:\n",
    "                layer.W -= alpha * (layer.grad_W / m)\n",
    "                layer.b -= alpha * (layer.grad_b / m)\n",
    "                \n",
    "            # complete the average cost calculation\n",
    "            avg_cost = avg_cost / m\n",
    "            avg_cost_func.append(avg_cost)\n",
    "            \n",
    "        return avg_cost_func"
   ]
  },
  {
   "cell_type": "markdown",
   "metadata": {
    "id": "haSUVQm_cNqy"
   },
   "source": [
    "Зададим метрики:"
   ]
  },
  {
   "cell_type": "code",
   "execution_count": 10,
   "metadata": {
    "id": "lv_DbhE9y8fC"
   },
   "outputs": [],
   "source": [
    "def MSE_loss(x, y):\n",
    "    return ((x-y) ** 2).mean()\n",
    "\n",
    "def MSE_loss_derivative(x, y):\n",
    "    return 2 * (x - y)"
   ]
  },
  {
   "cell_type": "markdown",
   "metadata": {
    "id": "SDNWBnv7cRWN"
   },
   "source": [
    "Реализуем обучение нашей модели:"
   ]
  },
  {
   "cell_type": "code",
   "execution_count": 12,
   "metadata": {
    "colab": {
     "base_uri": "https://localhost:8080/",
     "height": 332
    },
    "id": "4soTsununaIo",
    "outputId": "4402874e-476a-4db1-8d89-d091bb602595"
   },
   "outputs": [
    {
     "name": "stderr",
     "output_type": "stream",
     "text": [
      " 42%|████████████████████████████████▍                                             | 208/500 [00:00<00:00, 2079.33it/s]"
     ]
    },
    {
     "name": "stdout",
     "output_type": "stream",
     "text": [
      "[0.9390014]\n"
     ]
    },
    {
     "name": "stderr",
     "output_type": "stream",
     "text": [
      "100%|██████████████████████████████████████████████████████████████████████████████| 500/500 [00:00<00:00, 2242.21it/s]"
     ]
    },
    {
     "name": "stdout",
     "output_type": "stream",
     "text": [
      "0.014721151034674224\n",
      "[8.06831886]\n"
     ]
    },
    {
     "name": "stderr",
     "output_type": "stream",
     "text": [
      "\n"
     ]
    }
   ],
   "source": [
    "N = SimpleNN([1,2,1], MSE_loss, MSE_loss_derivative)\n",
    "\n",
    "print(N.apply([1]))\n",
    "\n",
    "avg_cost_func = N.train(xes.reshape(-1, 1), noisy_target_ys.reshape(-1, 1))\n",
    "\n",
    "print(avg_cost_func[-1])\n",
    "\n",
    "sns.lineplot(data=avg_cost_func)\n",
    "\n",
    "\n",
    "prediction = N.apply([2])\n",
    "print(prediction)"
   ]
  },
  {
   "cell_type": "code",
   "execution_count": null,
   "metadata": {},
   "outputs": [],
   "source": []
  },
  {
   "cell_type": "markdown",
   "metadata": {},
   "source": [
    "# Homework"
   ]
  },
  {
   "cell_type": "code",
   "execution_count": 13,
   "metadata": {},
   "outputs": [],
   "source": [
    "np.random.seed(42)"
   ]
  },
  {
   "cell_type": "code",
   "execution_count": 14,
   "metadata": {},
   "outputs": [],
   "source": [
    "def linear_func(x):\n",
    "    target_k = -3\n",
    "    target_b = 10\n",
    "    return target_k * x + target_b"
   ]
  },
  {
   "cell_type": "code",
   "execution_count": 15,
   "metadata": {},
   "outputs": [
    {
     "name": "stdout",
     "output_type": "stream",
     "text": [
      "[0.  0.1 0.2 0.3 0.4 0.5 0.6 0.7 0.8 0.9 1. ]\n"
     ]
    }
   ],
   "source": [
    "xes = np.linspace(0, 1, 11)\n",
    "\n",
    "print(xes)"
   ]
  },
  {
   "cell_type": "code",
   "execution_count": 16,
   "metadata": {},
   "outputs": [
    {
     "name": "stdout",
     "output_type": "stream",
     "text": [
      "[10.   9.7  9.4  9.1  8.8  8.5  8.2  7.9  7.6  7.3  7. ]\n"
     ]
    }
   ],
   "source": [
    "target_ys = np.array([linear_func(x) for x in xes])\n",
    "print(target_ys)"
   ]
  },
  {
   "cell_type": "code",
   "execution_count": 17,
   "metadata": {},
   "outputs": [
    {
     "name": "stdout",
     "output_type": "stream",
     "text": [
      "[10.04967142  9.68617357  9.46476885  9.25230299  8.77658466  8.4765863\n",
      "  8.35792128  7.97674347  7.55305256  7.354256    6.95365823]\n"
     ]
    }
   ],
   "source": [
    "noise = np.random.normal(0, 0.1, 11)\n",
    "noisy_target_ys = target_ys + noise\n",
    "\n",
    "print(noisy_target_ys)"
   ]
  },
  {
   "cell_type": "code",
   "execution_count": 18,
   "metadata": {},
   "outputs": [
    {
     "data": {
      "text/plain": [
       "<matplotlib.axes._subplots.AxesSubplot at 0x171c6925608>"
      ]
     },
     "execution_count": 18,
     "metadata": {},
     "output_type": "execute_result"
    },
    {
     "data": {
      "image/png": "[encoded data removed]",
      "text/plain": [
       "<Figure size 432x288 with 1 Axes>"
      ]
     },
     "metadata": {
      "needs_background": "light"
     },
     "output_type": "display_data"
    }
   ],
   "source": [
    "sns.lineplot(x = xes, y = target_ys, color = \"g\")\n",
    "sns.lineplot(x = xes, y = noisy_target_ys, color = \"b\")"
   ]
  },
  {
   "cell_type": "code",
   "execution_count": 27,
   "metadata": {},
   "outputs": [
    {
     "name": "stderr",
     "output_type": "stream",
     "text": [
      "100%|██████████████████████████████████████████████████████████████████████████████| 500/500 [00:00<00:00, 2232.08it/s]"
     ]
    },
    {
     "name": "stdout",
     "output_type": "stream",
     "text": [
      "[0.004746365351246553, 0.004746365351246603]\n"
     ]
    },
    {
     "name": "stderr",
     "output_type": "stream",
     "text": [
      "\n"
     ]
    }
   ],
   "source": [
    "N = SimpleNN([1, 4, 1], MSE_loss, MSE_loss_derivative)\n",
    "\n",
    "#print(N.apply([1]))\n",
    "\n",
    "avg_cost_func = N.train(xes.reshape(-1, 1), noisy_target_ys.reshape(-1, 1))\n",
    "\n",
    "print(avg_cost_func[-3:-1])\n"
   ]
  },
  {
   "cell_type": "code",
   "execution_count": 29,
   "metadata": {},
   "outputs": [
    {
     "name": "stdout",
     "output_type": "stream",
     "text": [
      "0.014239096053739679\n"
     ]
    }
   ],
   "source": [
    "print(sum(avg_cost_func[-4:-1]))"
   ]
  },
  {
   "cell_type": "code",
   "execution_count": null,
   "metadata": {},
   "outputs": [],
   "source": []
  },
  {
   "cell_type": "code",
   "execution_count": null,
   "metadata": {},
   "outputs": [],
   "source": []
  },
  {
   "cell_type": "code",
   "execution_count": null,
   "metadata": {},
   "outputs": [],
   "source": []
  },
  {
   "cell_type": "code",
   "execution_count": null,
   "metadata": {},
   "outputs": [],
   "source": []
  }
 ],
 "metadata": {
  "colab": {
   "name": "module3_screencast1",
   "provenance": []
  },
  "kernelspec": {
   "display_name": "Python 3",
   "language": "python",
   "name": "python3"
  },
  "language_info": {
   "codemirror_mode": {
    "name": "ipython",
    "version": 3
   },
   "file_extension": ".py",
   "mimetype": "text/x-python",
   "name": "python",
   "nbconvert_exporter": "python",
   "pygments_lexer": "ipython3",
   "version": "3.7.7"
  }
 },
 "nbformat": 4,
 "nbformat_minor": 1
}
